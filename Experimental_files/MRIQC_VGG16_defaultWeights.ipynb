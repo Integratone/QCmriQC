{
 "cells": [
  {
   "cell_type": "code",
   "execution_count": 7,
   "id": "5f795816-9941-4cdc-b9ea-19999b319ba5",
   "metadata": {},
   "outputs": [],
   "source": [
    "from torchvision.models import VGG16_Weights\n",
    "import os\n",
    "import shutil\n",
    "import torch\n",
    "import torch.nn as nn\n",
    "import torch.optim as optim\n",
    "from torchvision import transforms, models\n",
    "from torch.utils.data import DataLoader\n",
    "from torchvision.datasets import ImageFolder\n",
    "from tqdm import trange\n",
    "from torchvision.transforms import Grayscale\n",
    "import matplotlib.pyplot as plt\n",
    "\n",
    "\n",
    "DEVICE = 'cuda' if torch.cuda.is_available() else 'cpu'\n",
    "seed = 567\n",
    "torch.backends.cudnn.deterministic = True\n",
    "torch.backends.cudnn.benchmark = False\n",
    "torch.manual_seed(seed)\n",
    "\n",
    "## ALT Transform to 3 RGB channels\n",
    "data_transforms = {\n",
    "    \"train\": transforms.Compose([\n",
    "        transforms.Resize((224, 224)),  # Resize images to VGG16-compatible dimensions\n",
    "        transforms.RandomHorizontalFlip(),  # Augmentation\n",
    "        transforms.ToTensor(),  # Convert to tensor\n",
    "        transforms.Normalize([0.5] * 3, [0.5] * 3)  # Normalize for 3-channel images\n",
    "    ]),\n",
    "    \"val\": transforms.Compose([\n",
    "        transforms.Resize((224, 224)),\n",
    "        transforms.ToTensor(),\n",
    "        transforms.Normalize([0.5] * 3, [0.5] * 3)\n",
    "    ]),\n",
    "    \"test\": transforms.Compose([\n",
    "        transforms.Resize((224, 224)),\n",
    "        transforms.ToTensor(),\n",
    "        transforms.Normalize([0.5] * 3, [0.5] * 3)\n",
    "    ])\n",
    "}\n",
    "\n",
    "#\"/Users/quentin/Desktop/ML_MRIqc_DATASET/Ready_Data\"\n",
    "# data_transforms = {\n",
    "#     \"train\": transforms.Compose([\n",
    "#         Grayscale(num_output_channels=1),  # Convert images to grayscale\n",
    "#         transforms.Resize((224, 224)),  # Resize images to VGG16-compatible dimensions\n",
    "#         transforms.RandomHorizontalFlip(),  # Augmentation\n",
    "#         transforms.ToTensor(),  # Convert to tensor\n",
    "#         transforms.Normalize([0.5], [0.5])  # Normalize grayscale images\n",
    "#     ]),\n",
    "#     \"val\": transforms.Compose([\n",
    "#         Grayscale(num_output_channels=1),  # Convert images to grayscale\n",
    "#         transforms.Resize((224, 224)),\n",
    "#         transforms.ToTensor(),\n",
    "#         transforms.Normalize([0.5], [0.5])\n",
    "#     ]),\n",
    "#     \"test\": transforms.Compose([\n",
    "#         Grayscale(num_output_channels=1),  # Convert images to grayscale\n",
    "#         transforms.Resize((224, 224)),\n",
    "#         transforms.ToTensor(),\n",
    "#         transforms.Normalize([0.5], [0.5])\n",
    "#     ])\n",
    "# }\n",
    "\n",
    "data_dir = \"/Users/quentin/Desktop/ML_MRIqc_DATASET/Ready_Data\"\n",
    "datasets = {\n",
    "    x: ImageFolder(root=os.path.join(data_dir, x), transform=data_transforms[x])\n",
    "    for x in [\"train\", \"val\", \"test\"]\n",
    "}\n",
    "dataloaders = {\n",
    "    x: DataLoader(datasets[x], batch_size=32, shuffle=True, num_workers=4)\n",
    "    for x in [\"train\", \"val\", \"test\"]\n",
    "}\n",
    "\n",
    "train_loader = dataloaders[\"train\"]\n",
    "val_loader = dataloaders[\"val\"]\n",
    "test_loader = dataloaders[\"test\"]\n",
    "\n",
    "# Load VGG-16 model and modify the classifier\n",
    "vgg16T = models.vgg16(weights=VGG16_Weights.DEFAULT)\n",
    "num_features = vgg16T.classifier[6].in_features # \n",
    "vgg16T.classifier[6] = nn.Sequential(\n",
    "    nn.Linear(num_features, 256),\n",
    "    nn.ReLU(),\n",
    "    nn.Dropout(0.4),\n",
    "    nn.Linear(256, 2),# nn.Softmax(dim=1)\n",
    ")\n",
    "\n",
    "vgg16T = vgg16T.to(DEVICE)\n",
    "\n",
    "# Define Adaptive gradient & X-entropy loss\n",
    "optimizer = optim.Adagrad(vgg16T.parameters(), lr=0.00001, weight_decay=1e-5)\n",
    "criterion = nn.CrossEntropyLoss()\n",
    "\n",
    "# Train and Test functions\n",
    "def train_one_epoch(loader, model, device, optimizer, criterion, log_interval, epoch):\n",
    "    model.train()\n",
    "    total_loss = 0\n",
    "    correct = 0\n",
    "    losses = []\n",
    "    counter = []\n",
    "\n",
    "    for i, (img, label) in enumerate(loader):\n",
    "        img, label = img.to(device), label.to(device)\n",
    "\n",
    "        optimizer.zero_grad()\n",
    "        output = model(img)\n",
    "        loss = criterion(output, label)\n",
    "        loss.backward()\n",
    "        optimizer.step()\n",
    "        \n",
    "        total_loss += loss.item()\n",
    "        pred = output.argmax(dim=1, keepdim=True)\n",
    "        correct += pred.eq(label.view_as(pred)).sum().item()\n",
    "        \n",
    "        if (i + 1) % log_interval == 0:\n",
    "            losses.append(loss.item())\n",
    "            counter.append((i * loader.batch_size) + len(img) + epoch * len(loader.dataset))\n",
    "\n",
    "    avg_loss = total_loss / len(loader)\n",
    "    accuracy = correct / len(loader.dataset)\n",
    "\n",
    "    return avg_loss, accuracy, losses, counter\n",
    "\n",
    "def evaluate(loader, model, device, criterion):\n",
    "    model.eval()\n",
    "    total_loss = 0\n",
    "    correct = 0\n",
    "\n",
    "    with torch.no_grad():\n",
    "        for img, label in loader:\n",
    "            img, label = img.to(device), label.to(device)\n",
    "            output = model(img)\n",
    "            loss = criterion(output, label)\n",
    "            total_loss += loss.item()\n",
    "\n",
    "            pred = output.argmax(dim=1, keepdim=True)\n",
    "            correct += pred.eq(label.view_as(pred)).sum().item()\n",
    "\n",
    "    avg_loss = total_loss / len(loader)\n",
    "    accuracy = correct / len(loader.dataset)\n",
    "    return avg_loss, accuracy\n",
    "\n",
    "# print(vgg16T)"
   ]
  },
  {
   "cell_type": "code",
   "execution_count": null,
   "id": "c704f418-da8e-4b17-82b1-82c2cbf1f566",
   "metadata": {},
   "outputs": [
    {
     "name": "stderr",
     "output_type": "stream",
     "text": [
      "python(62309) MallocStackLogging: can't turn off malloc stack logging because it was not enabled.\n",
      "Epochs:   0%|                                            | 0/20 [00:00<?, ?it/s]python(62310) MallocStackLogging: can't turn off malloc stack logging because it was not enabled.\n",
      "python(62352) MallocStackLogging: can't turn off malloc stack logging because it was not enabled.\n",
      "python(62353) MallocStackLogging: can't turn off malloc stack logging because it was not enabled.\n",
      "python(62354) MallocStackLogging: can't turn off malloc stack logging because it was not enabled.\n",
      "python(63183) MallocStackLogging: can't turn off malloc stack logging because it was not enabled.\n",
      "python(63184) MallocStackLogging: can't turn off malloc stack logging because it was not enabled.\n",
      "python(63185) MallocStackLogging: can't turn off malloc stack logging because it was not enabled.\n",
      "python(63186) MallocStackLogging: can't turn off malloc stack logging because it was not enabled.\n"
     ]
    },
    {
     "name": "stdout",
     "output_type": "stream",
     "text": [
      "Epoch 1:\n",
      "Train Loss: 0.6957, Train Accuracy: 0.5238\n",
      "Val Loss: 0.6756, Val Accuracy: 0.5755\n"
     ]
    },
    {
     "name": "stderr",
     "output_type": "stream",
     "text": [
      "Epochs:   5%|█▋                               | 1/20 [13:55<4:24:35, 835.55s/it]python(63342) MallocStackLogging: can't turn off malloc stack logging because it was not enabled.\n",
      "python(63343) MallocStackLogging: can't turn off malloc stack logging because it was not enabled.\n",
      "python(63344) MallocStackLogging: can't turn off malloc stack logging because it was not enabled.\n",
      "python(63357) MallocStackLogging: can't turn off malloc stack logging because it was not enabled.\n",
      "python(64163) MallocStackLogging: can't turn off malloc stack logging because it was not enabled.\n",
      "python(64164) MallocStackLogging: can't turn off malloc stack logging because it was not enabled.\n",
      "python(64165) MallocStackLogging: can't turn off malloc stack logging because it was not enabled.\n",
      "python(64166) MallocStackLogging: can't turn off malloc stack logging because it was not enabled.\n"
     ]
    },
    {
     "name": "stdout",
     "output_type": "stream",
     "text": [
      "Epoch 2:\n",
      "Train Loss: 0.6795, Train Accuracy: 0.5620\n",
      "Val Loss: 0.6663, Val Accuracy: 0.6511\n"
     ]
    },
    {
     "name": "stderr",
     "output_type": "stream",
     "text": [
      "Epochs:  10%|███▎                             | 2/20 [27:55<4:11:27, 838.17s/it]python(64258) MallocStackLogging: can't turn off malloc stack logging because it was not enabled.\n",
      "python(64259) MallocStackLogging: can't turn off malloc stack logging because it was not enabled.\n",
      "python(64261) MallocStackLogging: can't turn off malloc stack logging because it was not enabled.\n",
      "python(64262) MallocStackLogging: can't turn off malloc stack logging because it was not enabled.\n",
      "python(65239) MallocStackLogging: can't turn off malloc stack logging because it was not enabled.\n",
      "python(65240) MallocStackLogging: can't turn off malloc stack logging because it was not enabled.\n",
      "python(65241) MallocStackLogging: can't turn off malloc stack logging because it was not enabled.\n",
      "python(65242) MallocStackLogging: can't turn off malloc stack logging because it was not enabled.\n"
     ]
    },
    {
     "name": "stdout",
     "output_type": "stream",
     "text": [
      "Epoch 3:\n",
      "Train Loss: 0.6769, Train Accuracy: 0.5705\n",
      "Val Loss: 0.6582, Val Accuracy: 0.6906\n"
     ]
    },
    {
     "name": "stderr",
     "output_type": "stream",
     "text": [
      "Epochs:  15%|████▉                            | 3/20 [41:59<3:58:14, 840.87s/it]python(65303) MallocStackLogging: can't turn off malloc stack logging because it was not enabled.\n",
      "python(65306) MallocStackLogging: can't turn off malloc stack logging because it was not enabled.\n",
      "python(65309) MallocStackLogging: can't turn off malloc stack logging because it was not enabled.\n",
      "python(65310) MallocStackLogging: can't turn off malloc stack logging because it was not enabled.\n",
      "python(66168) MallocStackLogging: can't turn off malloc stack logging because it was not enabled.\n",
      "python(66169) MallocStackLogging: can't turn off malloc stack logging because it was not enabled.\n",
      "python(66170) MallocStackLogging: can't turn off malloc stack logging because it was not enabled.\n",
      "python(66171) MallocStackLogging: can't turn off malloc stack logging because it was not enabled.\n"
     ]
    },
    {
     "name": "stdout",
     "output_type": "stream",
     "text": [
      "Epoch 4:\n",
      "Train Loss: 0.6665, Train Accuracy: 0.6006\n",
      "Val Loss: 0.6490, Val Accuracy: 0.7194\n"
     ]
    },
    {
     "name": "stderr",
     "output_type": "stream",
     "text": [
      "Epochs:  20%|██████▌                          | 4/20 [56:06<3:44:49, 843.07s/it]python(66227) MallocStackLogging: can't turn off malloc stack logging because it was not enabled.\n",
      "python(66230) MallocStackLogging: can't turn off malloc stack logging because it was not enabled.\n",
      "python(66234) MallocStackLogging: can't turn off malloc stack logging because it was not enabled.\n",
      "python(66235) MallocStackLogging: can't turn off malloc stack logging because it was not enabled.\n",
      "python(67720) MallocStackLogging: can't turn off malloc stack logging because it was not enabled.\n",
      "python(67721) MallocStackLogging: can't turn off malloc stack logging because it was not enabled.\n",
      "python(67722) MallocStackLogging: can't turn off malloc stack logging because it was not enabled.\n",
      "python(67723) MallocStackLogging: can't turn off malloc stack logging because it was not enabled.\n"
     ]
    },
    {
     "name": "stdout",
     "output_type": "stream",
     "text": [
      "Epoch 5:\n",
      "Train Loss: 0.6559, Train Accuracy: 0.6231\n",
      "Val Loss: 0.6391, Val Accuracy: 0.7590\n"
     ]
    },
    {
     "name": "stderr",
     "output_type": "stream",
     "text": [
      "Epochs:  25%|███████▎                     | 5/20 [7:17:32<36:38:03, 8792.22s/it]python(67826) MallocStackLogging: can't turn off malloc stack logging because it was not enabled.\n",
      "python(67827) MallocStackLogging: can't turn off malloc stack logging because it was not enabled.\n",
      "python(67829) MallocStackLogging: can't turn off malloc stack logging because it was not enabled.\n",
      "python(67831) MallocStackLogging: can't turn off malloc stack logging because it was not enabled.\n",
      "python(69174) MallocStackLogging: can't turn off malloc stack logging because it was not enabled.\n",
      "python(69175) MallocStackLogging: can't turn off malloc stack logging because it was not enabled.\n",
      "python(69176) MallocStackLogging: can't turn off malloc stack logging because it was not enabled.\n",
      "python(69177) MallocStackLogging: can't turn off malloc stack logging because it was not enabled.\n"
     ]
    },
    {
     "name": "stdout",
     "output_type": "stream",
     "text": [
      "Epoch 6:\n",
      "Train Loss: 0.6469, Train Accuracy: 0.6312\n",
      "Val Loss: 0.6283, Val Accuracy: 0.7590\n"
     ]
    },
    {
     "name": "stderr",
     "output_type": "stream",
     "text": [
      "Epochs:  30%|████████                   | 6/20 [11:43:58<43:42:09, 11237.85s/it]python(69273) MallocStackLogging: can't turn off malloc stack logging because it was not enabled.\n",
      "python(69274) MallocStackLogging: can't turn off malloc stack logging because it was not enabled.\n",
      "python(69279) MallocStackLogging: can't turn off malloc stack logging because it was not enabled.\n",
      "python(69280) MallocStackLogging: can't turn off malloc stack logging because it was not enabled.\n"
     ]
    }
   ],
   "source": [
    "# train loop\n",
    "max_epochs = 20\n",
    "patience = 2  # Early stopping (i.e. loss doesn't improve for patience # of epochs)\n",
    "best_val_loss = float('inf')\n",
    "p_counter = 0\n",
    "log_interval = 7\n",
    "\n",
    "train_losses = []\n",
    "val_losses = []\n",
    "train_accuracies = []\n",
    "val_accuracies = []\n",
    "log_losses = []\n",
    "log_counter = []\n",
    "\n",
    "for epoch in trange(max_epochs, leave=True, desc='Epochs'):\n",
    "    # Train\n",
    "    train_loss, train_accuracy, train_log_loss, train_log_counter = train_one_epoch(train_loader, vgg16T, DEVICE, optimizer, criterion, log_interval, epoch)\n",
    "    train_losses.append(train_loss)\n",
    "    train_accuracies.append(train_accuracy)\n",
    "    log_losses.extend(train_log_loss)  # log losses\n",
    "    log_counter.extend(train_log_counter)  # log counters\n",
    "\n",
    "    # Validate\n",
    "    val_loss, val_accuracy = evaluate(val_loader, vgg16T, DEVICE, criterion)\n",
    "    val_losses.append(val_loss)\n",
    "    val_accuracies.append(val_accuracy)\n",
    "\n",
    "    print(f\"Epoch {epoch + 1}:\")\n",
    "    print(f\"Train Loss: {train_loss:.4f}, Train Accuracy: {train_accuracy:.4f}\")\n",
    "    print(f\"Val Loss: {val_loss:.4f}, Val Accuracy: {val_accuracy:.4f}\")\n",
    "\n",
    "    # Early stopping\n",
    "    if val_loss < best_val_loss:\n",
    "        best_val_loss = val_loss\n",
    "        torch.save(vgg16T.state_dict(), \"best_model_vgg16Trained.pth\")  # Save the best model\n",
    "        p_counter = 0  # Reset patience counter\n",
    "    else:\n",
    "        p_counter += 1\n",
    "        if p_counter >= patience:\n",
    "            print(\"Early stopping triggered!\")\n",
    "            break\n"
   ]
  },
  {
   "cell_type": "code",
   "execution_count": 5,
   "id": "d9a6662d-b7b7-4305-8f4d-b5706b3a4c83",
   "metadata": {},
   "outputs": [
    {
     "ename": "NameError",
     "evalue": "name 'log_counter' is not defined",
     "output_type": "error",
     "traceback": [
      "\u001b[0;31m---------------------------------------------------------------------------\u001b[0m",
      "\u001b[0;31mNameError\u001b[0m                                 Traceback (most recent call last)",
      "Cell \u001b[0;32mIn[5], line 4\u001b[0m\n\u001b[1;32m      1\u001b[0m \u001b[38;5;66;03m# Plot results\u001b[39;00m\n\u001b[1;32m      2\u001b[0m \u001b[38;5;66;03m# epoch counter \u001b[39;00m\n\u001b[1;32m      3\u001b[0m plt\u001b[38;5;241m.\u001b[39mfigure(figsize\u001b[38;5;241m=\u001b[39m(\u001b[38;5;241m12\u001b[39m, \u001b[38;5;241m6\u001b[39m))\n\u001b[0;32m----> 4\u001b[0m plt\u001b[38;5;241m.\u001b[39mplot(log_counter, log_losses, color\u001b[38;5;241m=\u001b[39m\u001b[38;5;124m'\u001b[39m\u001b[38;5;124mblue\u001b[39m\u001b[38;5;124m'\u001b[39m, label\u001b[38;5;241m=\u001b[39m\u001b[38;5;124m'\u001b[39m\u001b[38;5;124mTraining Loss\u001b[39m\u001b[38;5;124m'\u001b[39m)\n\u001b[1;32m      5\u001b[0m plt\u001b[38;5;241m.\u001b[39mlegend()\n\u001b[1;32m      6\u001b[0m plt\u001b[38;5;241m.\u001b[39mtitle(\u001b[38;5;124m\"\u001b[39m\u001b[38;5;124mTraining Loss\u001b[39m\u001b[38;5;124m\"\u001b[39m); plt\u001b[38;5;241m.\u001b[39mylabel(\u001b[38;5;124m'\u001b[39m\u001b[38;5;124mLoss\u001b[39m\u001b[38;5;124m'\u001b[39m)\n",
      "\u001b[0;31mNameError\u001b[0m: name 'log_counter' is not defined"
     ]
    },
    {
     "data": {
      "text/plain": [
       "<Figure size 1200x600 with 0 Axes>"
      ]
     },
     "metadata": {},
     "output_type": "display_data"
    }
   ],
   "source": [
    "# Plot results\n",
    "# epoch counter \n",
    "plt.figure(figsize=(12, 6))\n",
    "plt.plot(log_counter, log_losses, color='blue', label='Training Loss')\n",
    "plt.legend()\n",
    "plt.title(\"Training Loss\"); plt.ylabel('Loss')\n",
    "\n",
    "plt.figure(figsize=(12, 6))\n",
    "plt.plot(range(len(val_losses)), val_losses, color='orange', label='Validation Loss')\n",
    "#plt.plot(range(max_epochs), test_losses, color='green', label='Test Loss')\n",
    "plt.xlabel('Epochs'); plt.ylabel('Loss')\n",
    "plt.title(\"Validation Loss Over Epochs\")\n",
    "plt.legend()\n",
    "\n",
    "plt.figure(figsize=(12, 6))\n",
    "plt.plot(range(len(val_accuracies)), val_accuracies, color='orange', label='Validation Accuracy')\n",
    "#plt.plot(range(max_epochs), test_accuracies, color='green', label='Test Accuracy')\n",
    "plt.xlabel('Epochs'); plt.ylabel('Accuracy')\n",
    "plt.title(\"Validation Accuracy Over Epochs\")\n",
    "plt.legend()\n",
    "\n",
    "plt.show()"
   ]
  }
 ],
 "metadata": {
  "kernelspec": {
   "display_name": "Python 3 (ipykernel)",
   "language": "python",
   "name": "python3"
  },
  "language_info": {
   "codemirror_mode": {
    "name": "ipython",
    "version": 3
   },
   "file_extension": ".py",
   "mimetype": "text/x-python",
   "name": "python",
   "nbconvert_exporter": "python",
   "pygments_lexer": "ipython3",
   "version": "3.12.4"
  }
 },
 "nbformat": 4,
 "nbformat_minor": 5
}
